{
 "cells": [
  {
   "cell_type": "code",
   "execution_count": 1,
   "id": "4c22214a",
   "metadata": {},
   "outputs": [
    {
     "name": "stderr",
     "output_type": "stream",
     "text": [
      "C:\\Program Files\\anaconda\\lib\\site-packages\\scipy\\__init__.py:138: UserWarning: A NumPy version >=1.16.5 and <1.23.0 is required for this version of SciPy (detected version 1.24.3)\n",
      "  warnings.warn(f\"A NumPy version >={np_minversion} and <{np_maxversion} is required for this version of \"\n"
     ]
    }
   ],
   "source": [
    "from statsmodels.stats.weightstats import ztest\n",
    "import pandas as pd\n",
    "import random"
   ]
  },
  {
   "cell_type": "code",
   "execution_count": 2,
   "id": "32d7cac6",
   "metadata": {},
   "outputs": [
    {
     "data": {
      "text/html": [
       "<div>\n",
       "<style scoped>\n",
       "    .dataframe tbody tr th:only-of-type {\n",
       "        vertical-align: middle;\n",
       "    }\n",
       "\n",
       "    .dataframe tbody tr th {\n",
       "        vertical-align: top;\n",
       "    }\n",
       "\n",
       "    .dataframe thead th {\n",
       "        text-align: right;\n",
       "    }\n",
       "</style>\n",
       "<table border=\"1\" class=\"dataframe\">\n",
       "  <thead>\n",
       "    <tr style=\"text-align: right;\">\n",
       "      <th></th>\n",
       "      <th>level</th>\n",
       "      <th>gender</th>\n",
       "      <th>CGPA</th>\n",
       "      <th>theoretical part</th>\n",
       "      <th>material clearness</th>\n",
       "      <th>enough  practice examples</th>\n",
       "      <th>material sufficiency</th>\n",
       "      <th>ideas to improve materials</th>\n",
       "      <th>timeframe suitability</th>\n",
       "      <th>CC opnions</th>\n",
       "      <th>...</th>\n",
       "      <th>rooms/Labs are clean</th>\n",
       "      <th>rooms/Labs are big</th>\n",
       "      <th>rooms/Labs have clear board</th>\n",
       "      <th>halls suitable for gaps</th>\n",
       "      <th>suggestions for better exp</th>\n",
       "      <th>overall satisfaction</th>\n",
       "      <th>Semester time</th>\n",
       "      <th>Interactive learning  effectiveness</th>\n",
       "      <th>Teamwork</th>\n",
       "      <th>suggestions for better exps</th>\n",
       "    </tr>\n",
       "  </thead>\n",
       "  <tbody>\n",
       "    <tr>\n",
       "      <th>0</th>\n",
       "      <td>2</td>\n",
       "      <td>Female</td>\n",
       "      <td>303:04:00</td>\n",
       "      <td>well enough to pass0</td>\n",
       "      <td>Maybe</td>\n",
       "      <td>Agree</td>\n",
       "      <td>Maybe</td>\n",
       "      <td>It should be more simple and comprehensive</td>\n",
       "      <td>Maybe</td>\n",
       "      <td>It is too long for the semester0</td>\n",
       "      <td>...</td>\n",
       "      <td>No</td>\n",
       "      <td>No</td>\n",
       "      <td>Yes</td>\n",
       "      <td>No</td>\n",
       "      <td>Taking part in communities and competitions</td>\n",
       "      <td>60-90%</td>\n",
       "      <td>Maybe</td>\n",
       "      <td>Agree</td>\n",
       "      <td>Agree</td>\n",
       "      <td>Taking part in communities and competitions</td>\n",
       "    </tr>\n",
       "    <tr>\n",
       "      <th>1</th>\n",
       "      <td>3</td>\n",
       "      <td>Female</td>\n",
       "      <td>303:04:00</td>\n",
       "      <td>Very well0</td>\n",
       "      <td>Maybe</td>\n",
       "      <td>Maybe</td>\n",
       "      <td>Disagree</td>\n",
       "      <td>0</td>\n",
       "      <td>Agree0</td>\n",
       "      <td>I agree with the previous question0</td>\n",
       "      <td>...</td>\n",
       "      <td>No</td>\n",
       "      <td>No</td>\n",
       "      <td>Yes</td>\n",
       "      <td>No</td>\n",
       "      <td>To make sure that the doctors and the teaching...</td>\n",
       "      <td>30-60%</td>\n",
       "      <td>Maybe</td>\n",
       "      <td>Agree</td>\n",
       "      <td>Maybe</td>\n",
       "      <td>0</td>\n",
       "    </tr>\n",
       "    <tr>\n",
       "      <th>2</th>\n",
       "      <td>2</td>\n",
       "      <td>Female</td>\n",
       "      <td>303:04:00</td>\n",
       "      <td>well enough to pass0</td>\n",
       "      <td>Agree</td>\n",
       "      <td>Maybe</td>\n",
       "      <td>Maybe</td>\n",
       "      <td>Need to cover more topics or clearer informati...</td>\n",
       "      <td>Agree0</td>\n",
       "      <td>I agree with the previous question0</td>\n",
       "      <td>...</td>\n",
       "      <td>No</td>\n",
       "      <td>No</td>\n",
       "      <td>Yes</td>\n",
       "      <td>No</td>\n",
       "      <td>The rooms need to be cleaned regularly</td>\n",
       "      <td>60-90%</td>\n",
       "      <td>Maybe</td>\n",
       "      <td>Disagree</td>\n",
       "      <td>Agree</td>\n",
       "      <td>The rooms need to be cleaned regularly</td>\n",
       "    </tr>\n",
       "    <tr>\n",
       "      <th>3</th>\n",
       "      <td>3</td>\n",
       "      <td>Male</td>\n",
       "      <td>303:04:00</td>\n",
       "      <td>Very well0</td>\n",
       "      <td>Agree</td>\n",
       "      <td>Agree</td>\n",
       "      <td>Disagree</td>\n",
       "      <td>0</td>\n",
       "      <td>Maybe</td>\n",
       "      <td>I agree with the previous question0</td>\n",
       "      <td>...</td>\n",
       "      <td>No</td>\n",
       "      <td>No</td>\n",
       "      <td>Yes</td>\n",
       "      <td>No</td>\n",
       "      <td>Preparing  the main building of the faculty as...</td>\n",
       "      <td>90-100%</td>\n",
       "      <td>Maybe</td>\n",
       "      <td>Agree</td>\n",
       "      <td>Maybe</td>\n",
       "      <td>Preparing  the main building of the faculty as...</td>\n",
       "    </tr>\n",
       "    <tr>\n",
       "      <th>4</th>\n",
       "      <td>3</td>\n",
       "      <td>Female</td>\n",
       "      <td>303:04:00</td>\n",
       "      <td>Very well0</td>\n",
       "      <td>Maybe</td>\n",
       "      <td>Maybe</td>\n",
       "      <td>Maybe</td>\n",
       "      <td>To be more detailed than it is to depend on it</td>\n",
       "      <td>Maybe</td>\n",
       "      <td>I agree with the previous question0</td>\n",
       "      <td>...</td>\n",
       "      <td>Yes</td>\n",
       "      <td>No</td>\n",
       "      <td>Yes</td>\n",
       "      <td>No</td>\n",
       "      <td>Have more sets and please open the Library all...</td>\n",
       "      <td>60-90%</td>\n",
       "      <td>Maybe</td>\n",
       "      <td>Agree</td>\n",
       "      <td>Agree</td>\n",
       "      <td>Have more sets and please open the Library all...</td>\n",
       "    </tr>\n",
       "  </tbody>\n",
       "</table>\n",
       "<p>5 rows × 36 columns</p>\n",
       "</div>"
      ],
      "text/plain": [
       "   level  gender       CGPA     theoretical part  material clearness  \\\n",
       "0      2  Female  303:04:00  well enough to pass0              Maybe   \n",
       "1      3  Female  303:04:00            Very well0              Maybe   \n",
       "2      2  Female  303:04:00  well enough to pass0              Agree   \n",
       "3      3    Male  303:04:00            Very well0              Agree   \n",
       "4      3  Female  303:04:00            Very well0              Maybe   \n",
       "\n",
       "  enough  practice examples material sufficiency   \\\n",
       "0                     Agree                 Maybe   \n",
       "1                     Maybe              Disagree   \n",
       "2                     Maybe                 Maybe   \n",
       "3                     Agree              Disagree   \n",
       "4                     Maybe                 Maybe   \n",
       "\n",
       "                          ideas to improve materials timeframe suitability  \\\n",
       "0        It should be more simple and comprehensive                  Maybe   \n",
       "1                                                  0                Agree0   \n",
       "2  Need to cover more topics or clearer informati...                Agree0   \n",
       "3                                                  0                 Maybe   \n",
       "4     To be more detailed than it is to depend on it                 Maybe   \n",
       "\n",
       "                            CC opnions  ... rooms/Labs are clean   \\\n",
       "0     It is too long for the semester0  ...                    No   \n",
       "1  I agree with the previous question0  ...                    No   \n",
       "2  I agree with the previous question0  ...                    No   \n",
       "3  I agree with the previous question0  ...                    No   \n",
       "4  I agree with the previous question0  ...                   Yes   \n",
       "\n",
       "  rooms/Labs are big   rooms/Labs have clear board halls suitable for gaps   \\\n",
       "0                   No                         Yes                       No   \n",
       "1                   No                         Yes                       No   \n",
       "2                   No                         Yes                       No   \n",
       "3                   No                         Yes                       No   \n",
       "4                   No                         Yes                       No   \n",
       "\n",
       "                          suggestions for better exp overall satisfaction    \\\n",
       "0       Taking part in communities and competitions                  60-90%   \n",
       "1  To make sure that the doctors and the teaching...                 30-60%   \n",
       "2            The rooms need to be cleaned regularly                  60-90%   \n",
       "3  Preparing  the main building of the faculty as...                90-100%   \n",
       "4  Have more sets and please open the Library all...                 60-90%   \n",
       "\n",
       "  Semester time   Interactive learning  effectiveness Teamwork   \\\n",
       "0           Maybe                               Agree     Agree   \n",
       "1           Maybe                               Agree     Maybe   \n",
       "2           Maybe                            Disagree     Agree   \n",
       "3           Maybe                               Agree     Maybe   \n",
       "4           Maybe                               Agree     Agree   \n",
       "\n",
       "                         suggestions for better exps  \n",
       "0       Taking part in communities and competitions   \n",
       "1                                                  0  \n",
       "2            The rooms need to be cleaned regularly   \n",
       "3  Preparing  the main building of the faculty as...  \n",
       "4  Have more sets and please open the Library all...  \n",
       "\n",
       "[5 rows x 36 columns]"
      ]
     },
     "execution_count": 2,
     "metadata": {},
     "output_type": "execute_result"
    }
   ],
   "source": [
    "data= pd.read_csv(\"C:\\\\Users\\\\Kimo Store\\\\Downloads\\\\Telegram Desktop\\\\cleandata7.csv\")\n",
    "data.head()"
   ]
  },
  {
   "cell_type": "markdown",
   "id": "f16dea3e",
   "metadata": {},
   "source": [
    "# Describtive Analysis"
   ]
  },
  {
   "cell_type": "code",
   "execution_count": 3,
   "id": "6cabd5af",
   "metadata": {},
   "outputs": [
    {
     "data": {
      "text/plain": [
       "level                                            int64\n",
       "gender                                          object\n",
       "CGPA                                            object\n",
       "theoretical part                                object\n",
       "material clearness                              object\n",
       "enough  practice examples                       object\n",
       "material sufficiency                            object\n",
       "ideas to improve materials                      object\n",
       "timeframe suitability                           object\n",
       "CC opnions                                      object\n",
       "assignments relation to courses                 object\n",
       "assignments measurment of knowledge             object\n",
       "project discussions efficiency                  object\n",
       "Attending lectures impact                       object\n",
       "Labs/Classes impact                             object\n",
       "suggestions for BL                              object\n",
       "doctors cooporations                            object\n",
       "teaching assistants cooporations                object\n",
       "interactive teaching techniques                 object\n",
       "interactive techniques impact                   object\n",
       "courses related to jobs                         object\n",
       "courses qualifies students                      object\n",
       "list of IC                                      object\n",
       "soft skills                                     object\n",
       "soft skills suggistions                         object\n",
       "learning environment can affect  performance    object\n",
       "rooms/Labs are clean                            object\n",
       "rooms/Labs are big                              object\n",
       "rooms/Labs have clear board                     object\n",
       "halls suitable for gaps                         object\n",
       "suggestions for better exp                      object\n",
       "overall satisfaction                            object\n",
       "Semester time                                   object\n",
       "Interactive learning  effectiveness             object\n",
       "Teamwork                                        object\n",
       "suggestions for better exps                     object\n",
       "dtype: object"
      ]
     },
     "execution_count": 3,
     "metadata": {},
     "output_type": "execute_result"
    }
   ],
   "source": [
    "data.dtypes"
   ]
  },
  {
   "cell_type": "markdown",
   "id": "fb0ee98c",
   "metadata": {},
   "source": [
    "## Using frequency for describtive analysis"
   ]
  },
  {
   "cell_type": "code",
   "execution_count": 4,
   "id": "82212bd7",
   "metadata": {},
   "outputs": [
    {
     "data": {
      "text/plain": [
       "Female    53\n",
       "Male      46\n",
       "Name: gender, dtype: int64"
      ]
     },
     "execution_count": 4,
     "metadata": {},
     "output_type": "execute_result"
    }
   ],
   "source": [
    "freq_gender = data['gender'].value_counts()\n",
    "freq_gender"
   ]
  },
  {
   "cell_type": "code",
   "execution_count": 5,
   "id": "83a49ac1",
   "metadata": {},
   "outputs": [
    {
     "data": {
      "text/plain": [
       "303:04:00      51\n",
       "03:03.2        21\n",
       "02:02.9        21\n",
       "Less than 1     4\n",
       "01:01.9         2\n",
       "Name: CGPA, dtype: int64"
      ]
     },
     "execution_count": 5,
     "metadata": {},
     "output_type": "execute_result"
    }
   ],
   "source": [
    "freq_CGPA=data['CGPA'].value_counts()\n",
    "freq_CGPA"
   ]
  },
  {
   "cell_type": "code",
   "execution_count": 6,
   "id": "405b7343",
   "metadata": {},
   "outputs": [
    {
     "data": {
      "text/plain": [
       "Maybe       50\n",
       "Disagree    33\n",
       "Agree       16\n",
       "Name: material sufficiency , dtype: int64"
      ]
     },
     "execution_count": 6,
     "metadata": {},
     "output_type": "execute_result"
    }
   ],
   "source": [
    "freq_material_sufficiency =data['material sufficiency '].value_counts()\n",
    "freq_material_sufficiency"
   ]
  },
  {
   "cell_type": "code",
   "execution_count": 7,
   "id": "4d2fb568",
   "metadata": {},
   "outputs": [
    {
     "data": {
      "text/plain": [
       "Maybe       60\n",
       "Agree       27\n",
       "Disagree    12\n",
       "Name: material clearness, dtype: int64"
      ]
     },
     "execution_count": 7,
     "metadata": {},
     "output_type": "execute_result"
    }
   ],
   "source": [
    "freq_material_clearness=data['material clearness'].value_counts()\n",
    "freq_material_clearness"
   ]
  },
  {
   "cell_type": "markdown",
   "id": "ca9d6bc0",
   "metadata": {},
   "source": [
    "### we notice that most of students are females which have high CGPA but they still see that materials could be not sufficient enough or not clear enough"
   ]
  },
  {
   "cell_type": "code",
   "execution_count": 8,
   "id": "4df4535c",
   "metadata": {},
   "outputs": [
    {
     "data": {
      "text/plain": [
       "Maybe       44\n",
       "Disagree    30\n",
       "Agree       25\n",
       "Name: enough  practice examples, dtype: int64"
      ]
     },
     "execution_count": 8,
     "metadata": {},
     "output_type": "execute_result"
    }
   ],
   "source": [
    "freq_enough_practice_examples=data['enough  practice examples'].value_counts()\n",
    "freq_enough_practice_examples"
   ]
  },
  {
   "cell_type": "code",
   "execution_count": 9,
   "id": "7eebe4fc",
   "metadata": {},
   "outputs": [
    {
     "data": {
      "text/plain": [
       "Agree0       40\n",
       "Maybe        39\n",
       "Disagree0    20\n",
       "Name: timeframe suitability, dtype: int64"
      ]
     },
     "execution_count": 9,
     "metadata": {},
     "output_type": "execute_result"
    }
   ],
   "source": [
    "freq_timeframe_suitability=data['timeframe suitability'].value_counts()\n",
    "freq_timeframe_suitability"
   ]
  },
  {
   "cell_type": "markdown",
   "id": "3b959e3c",
   "metadata": {},
   "source": [
    "### we also notice that there might be not enough practical examples although the time frame is quiet suitable so professors must consider increasing the practical examples"
   ]
  },
  {
   "cell_type": "markdown",
   "id": "e6ef4379",
   "metadata": {},
   "source": [
    "## Using Mode for Descriptive Analysis"
   ]
  },
  {
   "cell_type": "code",
   "execution_count": 10,
   "id": "fecc7c1f",
   "metadata": {},
   "outputs": [
    {
     "data": {
      "text/plain": [
       "0    Agree\n",
       "dtype: object"
      ]
     },
     "execution_count": 10,
     "metadata": {},
     "output_type": "execute_result"
    }
   ],
   "source": [
    "mode_assignments_relation_to_courses  = data['assignments relation to courses'].mode()\n",
    "mode_assignments_relation_to_courses"
   ]
  },
  {
   "cell_type": "code",
   "execution_count": 11,
   "id": "80dbcaaf",
   "metadata": {},
   "outputs": [
    {
     "data": {
      "text/plain": [
       "0    Maybe\n",
       "dtype: object"
      ]
     },
     "execution_count": 11,
     "metadata": {},
     "output_type": "execute_result"
    }
   ],
   "source": [
    "mode_assignments_measurment_of_knowledge=data['assignments measurment of knowledge'].mode()\n",
    "mode_assignments_measurment_of_knowledge"
   ]
  },
  {
   "cell_type": "markdown",
   "id": "f768d114",
   "metadata": {},
   "source": [
    "### we notice that assignments are related to courses but they are not enough ti measure the knowledge of students "
   ]
  },
  {
   "cell_type": "code",
   "execution_count": 12,
   "id": "d9631262",
   "metadata": {},
   "outputs": [
    {
     "data": {
      "text/plain": [
       "0    Yes\n",
       "dtype: object"
      ]
     },
     "execution_count": 12,
     "metadata": {},
     "output_type": "execute_result"
    }
   ],
   "source": [
    "mode_learning_environment_can_affect_performance=data['learning environment can affect  performance'].mode()\n",
    "mode_learning_environment_can_affect_performance"
   ]
  },
  {
   "cell_type": "code",
   "execution_count": 13,
   "id": "3f37d595",
   "metadata": {},
   "outputs": [
    {
     "data": {
      "text/plain": [
       "0    Yes\n",
       "dtype: object"
      ]
     },
     "execution_count": 13,
     "metadata": {},
     "output_type": "execute_result"
    }
   ],
   "source": [
    "mode_rooms_Labs_are_clean=data['rooms/Labs are clean '].mode()\n",
    "mode_rooms_Labs_are_clean"
   ]
  },
  {
   "cell_type": "code",
   "execution_count": 14,
   "id": "69d61af9",
   "metadata": {},
   "outputs": [
    {
     "data": {
      "text/plain": [
       "0    No\n",
       "dtype: object"
      ]
     },
     "execution_count": 14,
     "metadata": {},
     "output_type": "execute_result"
    }
   ],
   "source": [
    "mode_rooms_Labs_are_big=data['rooms/Labs are big  '].mode()\n",
    "mode_rooms_Labs_are_big"
   ]
  },
  {
   "cell_type": "code",
   "execution_count": 15,
   "id": "3ab85d2d",
   "metadata": {},
   "outputs": [
    {
     "data": {
      "text/plain": [
       "0    Yes\n",
       "dtype: object"
      ]
     },
     "execution_count": 15,
     "metadata": {},
     "output_type": "execute_result"
    }
   ],
   "source": [
    "mode_rooms_Labs_have_clear_board =data['rooms/Labs have clear board'].mode()\n",
    "mode_rooms_Labs_have_clear_board"
   ]
  },
  {
   "cell_type": "code",
   "execution_count": 16,
   "id": "13ea050f",
   "metadata": {},
   "outputs": [
    {
     "data": {
      "text/plain": [
       "0    No\n",
       "dtype: object"
      ]
     },
     "execution_count": 16,
     "metadata": {},
     "output_type": "execute_result"
    }
   ],
   "source": [
    "mode_halls_suitable_for_gaps =data['halls suitable for gaps '].mode()\n",
    "mode_halls_suitable_for_gaps"
   ]
  },
  {
   "cell_type": "markdown",
   "id": "5ee3f390",
   "metadata": {},
   "source": [
    "### we also notice that students see that working environment can affect thier performance and they think that halls are clean and have clear boards but they are not big enough or suitable for gaps"
   ]
  },
  {
   "cell_type": "markdown",
   "id": "73ce4a46",
   "metadata": {},
   "source": [
    "## Using Percentages for Descriptive Analysis"
   ]
  },
  {
   "cell_type": "code",
   "execution_count": 17,
   "id": "1ff47583",
   "metadata": {},
   "outputs": [
    {
     "data": {
      "text/plain": [
       "Yes    52.525253\n",
       "No     47.474747\n",
       "Name: soft skills , dtype: float64"
      ]
     },
     "execution_count": 17,
     "metadata": {},
     "output_type": "execute_result"
    }
   ],
   "source": [
    "percentages_soft_skills  = data['soft skills '].value_counts(normalize=True) * 100\n",
    "percentages_soft_skills"
   ]
  },
  {
   "cell_type": "markdown",
   "id": "8ebd4796",
   "metadata": {},
   "source": [
    "### we notice that almost 52% of students have soft skills but there are alot of other students need to build thier soft skills"
   ]
  },
  {
   "cell_type": "code",
   "execution_count": 18,
   "id": "ebdb9ecd",
   "metadata": {},
   "outputs": [
    {
     "data": {
      "text/plain": [
       "No     59.59596\n",
       "Yes    40.40404\n",
       "Name: courses related to jobs, dtype: float64"
      ]
     },
     "execution_count": 18,
     "metadata": {},
     "output_type": "execute_result"
    }
   ],
   "source": [
    "percentages_courses_related_to_jobs=data['courses related to jobs'].value_counts(normalize=True) * 100\n",
    "percentages_courses_related_to_jobs"
   ]
  },
  {
   "cell_type": "markdown",
   "id": "5c8dd7bd",
   "metadata": {},
   "source": [
    "### we notice that almost 60% of students see that courses are not related to jobs"
   ]
  },
  {
   "cell_type": "markdown",
   "id": "2d1a6769",
   "metadata": {},
   "source": [
    "## Using Cross Tabulation (Contingency Table) for Descriptive Analysis"
   ]
  },
  {
   "cell_type": "code",
   "execution_count": 19,
   "id": "81b7ac5c",
   "metadata": {},
   "outputs": [
    {
     "data": {
      "text/html": [
       "<div>\n",
       "<style scoped>\n",
       "    .dataframe tbody tr th:only-of-type {\n",
       "        vertical-align: middle;\n",
       "    }\n",
       "\n",
       "    .dataframe tbody tr th {\n",
       "        vertical-align: top;\n",
       "    }\n",
       "\n",
       "    .dataframe thead th {\n",
       "        text-align: right;\n",
       "    }\n",
       "</style>\n",
       "<table border=\"1\" class=\"dataframe\">\n",
       "  <thead>\n",
       "    <tr style=\"text-align: right;\">\n",
       "      <th>CGPA</th>\n",
       "      <th>01:01.9</th>\n",
       "      <th>02:02.9</th>\n",
       "      <th>03:03.2</th>\n",
       "      <th>303:04:00</th>\n",
       "      <th>Less than 1</th>\n",
       "    </tr>\n",
       "    <tr>\n",
       "      <th>gender</th>\n",
       "      <th></th>\n",
       "      <th></th>\n",
       "      <th></th>\n",
       "      <th></th>\n",
       "      <th></th>\n",
       "    </tr>\n",
       "  </thead>\n",
       "  <tbody>\n",
       "    <tr>\n",
       "      <th>Female</th>\n",
       "      <td>1</td>\n",
       "      <td>8</td>\n",
       "      <td>14</td>\n",
       "      <td>28</td>\n",
       "      <td>2</td>\n",
       "    </tr>\n",
       "    <tr>\n",
       "      <th>Male</th>\n",
       "      <td>1</td>\n",
       "      <td>13</td>\n",
       "      <td>7</td>\n",
       "      <td>23</td>\n",
       "      <td>2</td>\n",
       "    </tr>\n",
       "  </tbody>\n",
       "</table>\n",
       "</div>"
      ],
      "text/plain": [
       "CGPA    01:01.9  02:02.9  03:03.2  303:04:00  Less than 1\n",
       "gender                                                   \n",
       "Female        1        8       14         28            2\n",
       "Male          1       13        7         23            2"
      ]
     },
     "execution_count": 19,
     "metadata": {},
     "output_type": "execute_result"
    }
   ],
   "source": [
    "cross_gen_gpa = pd.crosstab(data['gender'], data['CGPA'])\n",
    "cross_gen_gpa"
   ]
  },
  {
   "cell_type": "markdown",
   "id": "c387d23b",
   "metadata": {},
   "source": [
    "### we notice that females have higher CGPA than males so may be gender can affect CGPA"
   ]
  },
  {
   "cell_type": "code",
   "execution_count": 20,
   "id": "cd29c695",
   "metadata": {},
   "outputs": [
    {
     "data": {
      "text/html": [
       "<div>\n",
       "<style scoped>\n",
       "    .dataframe tbody tr th:only-of-type {\n",
       "        vertical-align: middle;\n",
       "    }\n",
       "\n",
       "    .dataframe tbody tr th {\n",
       "        vertical-align: top;\n",
       "    }\n",
       "\n",
       "    .dataframe thead th {\n",
       "        text-align: right;\n",
       "    }\n",
       "</style>\n",
       "<table border=\"1\" class=\"dataframe\">\n",
       "  <thead>\n",
       "    <tr style=\"text-align: right;\">\n",
       "      <th>teaching assistants cooporations</th>\n",
       "      <th>Always cooperative0</th>\n",
       "      <th>Never cooperative0</th>\n",
       "      <th>Very cooperative in campus, not so cooperative online0</th>\n",
       "      <th>Very cooperative online, not so cooperative in campus0</th>\n",
       "    </tr>\n",
       "    <tr>\n",
       "      <th>doctors cooporations</th>\n",
       "      <th></th>\n",
       "      <th></th>\n",
       "      <th></th>\n",
       "      <th></th>\n",
       "    </tr>\n",
       "  </thead>\n",
       "  <tbody>\n",
       "    <tr>\n",
       "      <th>Always cooperative0</th>\n",
       "      <td>22</td>\n",
       "      <td>2</td>\n",
       "      <td>4</td>\n",
       "      <td>0</td>\n",
       "    </tr>\n",
       "    <tr>\n",
       "      <th>Never cooperative0</th>\n",
       "      <td>2</td>\n",
       "      <td>5</td>\n",
       "      <td>5</td>\n",
       "      <td>2</td>\n",
       "    </tr>\n",
       "    <tr>\n",
       "      <th>Very cooperative in campus, not so cooperative online0</th>\n",
       "      <td>22</td>\n",
       "      <td>2</td>\n",
       "      <td>17</td>\n",
       "      <td>7</td>\n",
       "    </tr>\n",
       "    <tr>\n",
       "      <th>Very cooperative online, not so cooperative in campus0</th>\n",
       "      <td>1</td>\n",
       "      <td>0</td>\n",
       "      <td>3</td>\n",
       "      <td>5</td>\n",
       "    </tr>\n",
       "  </tbody>\n",
       "</table>\n",
       "</div>"
      ],
      "text/plain": [
       "teaching assistants cooporations                    Always cooperative0  \\\n",
       "doctors cooporations                                                      \n",
       "Always cooperative0                                                  22   \n",
       "Never cooperative0                                                    2   \n",
       "Very cooperative in campus, not so cooperative ...                   22   \n",
       "Very cooperative online, not so cooperative in ...                    1   \n",
       "\n",
       "teaching assistants cooporations                    Never cooperative0  \\\n",
       "doctors cooporations                                                     \n",
       "Always cooperative0                                                  2   \n",
       "Never cooperative0                                                   5   \n",
       "Very cooperative in campus, not so cooperative ...                   2   \n",
       "Very cooperative online, not so cooperative in ...                   0   \n",
       "\n",
       "teaching assistants cooporations                    Very cooperative in campus, not so cooperative online0  \\\n",
       "doctors cooporations                                                                                         \n",
       "Always cooperative0                                                                                 4        \n",
       "Never cooperative0                                                                                  5        \n",
       "Very cooperative in campus, not so cooperative ...                                                 17        \n",
       "Very cooperative online, not so cooperative in ...                                                  3        \n",
       "\n",
       "teaching assistants cooporations                    Very cooperative online, not so cooperative in campus0  \n",
       "doctors cooporations                                                                                        \n",
       "Always cooperative0                                                                                 0       \n",
       "Never cooperative0                                                                                  2       \n",
       "Very cooperative in campus, not so cooperative ...                                                  7       \n",
       "Very cooperative online, not so cooperative in ...                                                  5       "
      ]
     },
     "execution_count": 20,
     "metadata": {},
     "output_type": "execute_result"
    }
   ],
   "source": [
    "cross_doc_ass_coop=pd.crosstab(data['doctors cooporations '],data['teaching assistants cooporations'])\n",
    "cross_doc_ass_coop"
   ]
  },
  {
   "cell_type": "markdown",
   "id": "e44b8d68",
   "metadata": {},
   "source": [
    "### we notice the relation between doctors and assistants cooperation in helping students which mean that in most cases a cooporative doctor has a cooperative assistant"
   ]
  },
  {
   "cell_type": "code",
   "execution_count": 21,
   "id": "2d951fe8",
   "metadata": {},
   "outputs": [
    {
     "data": {
      "text/html": [
       "<div>\n",
       "<style scoped>\n",
       "    .dataframe tbody tr th:only-of-type {\n",
       "        vertical-align: middle;\n",
       "    }\n",
       "\n",
       "    .dataframe tbody tr th {\n",
       "        vertical-align: top;\n",
       "    }\n",
       "\n",
       "    .dataframe thead th {\n",
       "        text-align: right;\n",
       "    }\n",
       "</style>\n",
       "<table border=\"1\" class=\"dataframe\">\n",
       "  <thead>\n",
       "    <tr style=\"text-align: right;\">\n",
       "      <th>interactive techniques impact</th>\n",
       "      <th>No</th>\n",
       "      <th>Yes</th>\n",
       "    </tr>\n",
       "    <tr>\n",
       "      <th>interactive teaching techniques</th>\n",
       "      <th></th>\n",
       "      <th></th>\n",
       "    </tr>\n",
       "  </thead>\n",
       "  <tbody>\n",
       "    <tr>\n",
       "      <th>Agree</th>\n",
       "      <td>2</td>\n",
       "      <td>15</td>\n",
       "    </tr>\n",
       "    <tr>\n",
       "      <th>Disagree</th>\n",
       "      <td>2</td>\n",
       "      <td>12</td>\n",
       "    </tr>\n",
       "    <tr>\n",
       "      <th>Some of them</th>\n",
       "      <td>4</td>\n",
       "      <td>64</td>\n",
       "    </tr>\n",
       "  </tbody>\n",
       "</table>\n",
       "</div>"
      ],
      "text/plain": [
       "interactive techniques impact    No  Yes\n",
       "interactive teaching techniques         \n",
       "Agree                             2   15\n",
       "Disagree                          2   12\n",
       "Some of them                      4   64"
      ]
     },
     "execution_count": 21,
     "metadata": {},
     "output_type": "execute_result"
    }
   ],
   "source": [
    "cross_int_tech_impact=pd.crosstab(data['interactive teaching techniques'],data['interactive techniques impact'])\n",
    "cross_int_tech_impact"
   ]
  },
  {
   "cell_type": "markdown",
   "id": "05a1954e",
   "metadata": {},
   "source": [
    "### we notice that interactive teaching techniques have high impact on students "
   ]
  },
  {
   "cell_type": "markdown",
   "id": "e3a9e3bf",
   "metadata": {},
   "source": [
    "# Inferential Statistics"
   ]
  },
  {
   "cell_type": "markdown",
   "id": "f598c71c",
   "metadata": {},
   "source": [
    "## Chi_square Test for Inferential Statistics"
   ]
  },
  {
   "cell_type": "code",
   "execution_count": 22,
   "id": "860d7414",
   "metadata": {},
   "outputs": [],
   "source": [
    "import scipy.stats as stats"
   ]
  },
  {
   "cell_type": "code",
   "execution_count": 23,
   "id": "30191ec0",
   "metadata": {},
   "outputs": [
    {
     "name": "stdout",
     "output_type": "stream",
     "text": [
      "Chi-square value: 3.5367379929822627\n",
      "p-value: 0.47231428372065243\n"
     ]
    }
   ],
   "source": [
    "#Perform a chi-square test to determine if there is a significant association between the two categorical variables. \n",
    "#The chi-square test evaluates the null hypothesis that the two variables are independent.\n",
    "chi2, p_value,gen,gpa = stats.chi2_contingency(cross_gen_gpa)\n",
    "print(\"Chi-square value:\", chi2)\n",
    "print(\"p-value:\", p_value)"
   ]
  },
  {
   "cell_type": "markdown",
   "id": "3f78b0f3",
   "metadata": {},
   "source": [
    "### we will assume that significance level=0.05 so from the above p_value, we will reject null hypothesis and accept the alternative one which prove that there is a relation between gender and gpa"
   ]
  },
  {
   "cell_type": "code",
   "execution_count": 24,
   "id": "ca07003f",
   "metadata": {},
   "outputs": [
    {
     "name": "stdout",
     "output_type": "stream",
     "text": [
      "Chi-square value: 1.4787376489057165\n",
      "p-value: 0.4774151532146448\n"
     ]
    }
   ],
   "source": [
    "chi2, p_value,int_,tech = stats.chi2_contingency(cross_int_tech_impact)\n",
    "print(\"Chi-square value:\", chi2)\n",
    "print(\"p-value:\", p_value)"
   ]
  },
  {
   "cell_type": "markdown",
   "id": "fffde162",
   "metadata": {},
   "source": [
    "### we will assume that significance level=0.05 so from the above p_value, we will reject null hypothesis and accept the alternative one which prove that interactive teaching techniques have impact on students"
   ]
  },
  {
   "cell_type": "markdown",
   "id": "72953e7a",
   "metadata": {},
   "source": [
    "# Correlation Analysis"
   ]
  },
  {
   "cell_type": "markdown",
   "id": "e99ee62c",
   "metadata": {},
   "source": [
    "### To measure the correlation coefficient between two categorical variables, you can use a statistical measure called Cramer's V. Cramer's V is a widely used measure of association between two categorical variables. It ranges from 0 to 1, with higher values indicating stronger association between the variables.***\n",
    "\n",
    "The main assumptions are:\n",
    "\n",
    "(1)The observations are independent.\n",
    "\n",
    "(2)The expected frequency count for each cell in the contingency table is at least 5"
   ]
  },
  {
   "cell_type": "code",
   "execution_count": 25,
   "id": "59b5f637",
   "metadata": {},
   "outputs": [],
   "source": [
    "from scipy.stats import chi2_contingency\n",
    "import numpy as np"
   ]
  },
  {
   "cell_type": "code",
   "execution_count": 26,
   "id": "687242d5",
   "metadata": {},
   "outputs": [
    {
     "name": "stdout",
     "output_type": "stream",
     "text": [
      "material clearness  Agree  Disagree  Maybe\n",
      "level                                     \n",
      "1                       8         1     15\n",
      "2                       8         4     15\n",
      "3                      10         4     25\n",
      "4                       1         3      5\n",
      "Cramer's V: material clearness\n",
      "Agree       0.056501\n",
      "Disagree    0.000000\n",
      "Maybe       0.049859\n",
      "dtype: float64\n"
     ]
    }
   ],
   "source": [
    "# create a contingency table of the level and material clearness variables\n",
    "table = pd.crosstab(data['level'], data['material clearness'])\n",
    "\n",
    "# calculate the chi-squared statistic and related values\n",
    "chi2, p, dof, expected = chi2_contingency(table)\n",
    "\n",
    "# calculate Cramer's V\n",
    "n = np.sum(table)\n",
    "phi2 = chi2/n\n",
    "r, k = table.shape\n",
    "phi2corr = np.maximum(0, phi2 - ((k-1)*(r-1))/(n-1))\n",
    "r_corr = r - ((r-1)**2)/(n-1)\n",
    "k_corr = k - ((k-1)**2)/(n-1)\n",
    "v = np.sqrt(phi2corr/np.minimum((k_corr-1),(r_corr-1)))\n",
    "\n",
    "# print the contingency table and Cramer's V\n",
    "print(table)\n",
    "print(\"Cramer's V:\", v)"
   ]
  },
  {
   "cell_type": "markdown",
   "id": "826b1633",
   "metadata": {},
   "source": [
    "### Conclusion: No Correlation Between Level & Mterial Clearness. Therefore, There is no Change in Material Perceptiion as The Years Passes by"
   ]
  },
  {
   "cell_type": "code",
   "execution_count": 27,
   "id": "af6ac0cb",
   "metadata": {},
   "outputs": [
    {
     "name": "stdout",
     "output_type": "stream",
     "text": [
      "overall satisfaction    0-30%  30-60%  60-90%  90-100%\n",
      "level                                                 \n",
      "1                           2       9      12        1\n",
      "2                           4       7      15        1\n",
      "3                           7      18       9        5\n",
      "4                           4       4       1        0\n",
      "Cramer's V: overall satisfaction  \n",
      "0-30%      0.431343\n",
      "30-60%     0.276847\n",
      "60-90%     0.280789\n",
      "90-100%    0.803103\n",
      "dtype: float64\n"
     ]
    }
   ],
   "source": [
    "# create a contingency table of the level and overall satisfaction variables\n",
    "table = pd.crosstab(data['level'], data['overall satisfaction  '])\n",
    "\n",
    "# calculate the chi-squared statistic and related values\n",
    "chi2, p, dof, expected = chi2_contingency(table)\n",
    "\n",
    "# calculate Cramer's V\n",
    "n = np.sum(table)\n",
    "phi2 = chi2/n\n",
    "r, k = table.shape\n",
    "phi2corr = np.maximum(0, phi2 - ((k-1)*(r-1))/(n-1))\n",
    "r_corr = r - ((r-1)**2)/(n-1)\n",
    "k_corr = k - ((k-1)**2)/(n-1)\n",
    "v = np.sqrt(phi2corr/np.minimum((k_corr-1),(r_corr-1)))\n",
    "\n",
    "# print the contingency table and Cramer's V\n",
    "print(table)\n",
    "print(\"Cramer's V:\", v)"
   ]
  },
  {
   "cell_type": "markdown",
   "id": "65a475f2",
   "metadata": {},
   "source": [
    "### Conclusion: High Level Correlation Between Highh Satisfaction And Level"
   ]
  },
  {
   "cell_type": "markdown",
   "id": "3615d703",
   "metadata": {},
   "source": [
    "# Regression Analysis"
   ]
  },
  {
   "cell_type": "markdown",
   "id": "1a0d53c7",
   "metadata": {},
   "source": [
    "## linear Regression"
   ]
  },
  {
   "cell_type": "code",
   "execution_count": 28,
   "id": "d37716ee",
   "metadata": {},
   "outputs": [
    {
     "name": "stdout",
     "output_type": "stream",
     "text": [
      "Intercept: 8401039014246.986\n",
      "Coefficients: [-8.40103901e+12 -8.40103901e+12 -8.40103901e+12]\n",
      "Prediction: [-0.75]\n"
     ]
    }
   ],
   "source": [
    "# Convert the 'material clearness' column to binary variables\n",
    "data[['material_clearness_Maybe', 'material_clearness_Agree', 'material_clearness_Disagree']] = pd.get_dummies(data['material clearness'])\n",
    "\n",
    "# Convert the 'CGPA' column to numerical values\n",
    "cgpa_categories = ['Less than 1', '1:00:00-1:59:59', '2:00:00-2:59:59', '3:00:00-3:59:59', '4:00:00-4:59:59', '5:00:00-5:59:59']\n",
    "data['CGPA'] = pd.Categorical(data['CGPA'], categories=cgpa_categories)\n",
    "data['CGPA'] = data['CGPA'].cat.codes\n",
    "\n",
    "# Define the variables\n",
    "x = data[['material_clearness_Maybe', 'material_clearness_Agree', 'material_clearness_Disagree']]\n",
    "y = data['CGPA']\n",
    "\n",
    "# Perform the regression analysis\n",
    "from sklearn.linear_model import LinearRegression\n",
    "model = LinearRegression()\n",
    "model.fit(x, y)\n",
    "\n",
    "# Print the coefficients\n",
    "print('Intercept:', model.intercept_)\n",
    "print('Coefficients:', model.coef_)\n",
    "\n",
    "# Make a prediction\n",
    "prediction = model.predict(pd.DataFrame({'material_clearness_Maybe': [0], 'material_clearness_Agree': [1], 'material_clearness_Disagree': [0]}))\n",
    "print('Prediction:', prediction)"
   ]
  },
  {
   "cell_type": "code",
   "execution_count": 29,
   "id": "d20b97e9",
   "metadata": {},
   "outputs": [],
   "source": [
    "# The intercept is the value of the dependent variable (y) when all of the independent variables (x) are equal to 0.\n",
    "#it is the value of y that we would expect when all of the independent variables have no effect on the dependent variable.\n",
    "# The intercept is also sometimes called the constant term or the bias term.\n",
    "\n",
    "# The coefficients represent the change in the dependent variable (y) for a one-unit increase in each\n",
    "#             of the independent variables (x).\n",
    "# predictions for new observations by estimating the value of the dependent variable based on the values independent variabless."
   ]
  },
  {
   "cell_type": "code",
   "execution_count": 30,
   "id": "0ab4846e",
   "metadata": {},
   "outputs": [],
   "source": [
    "# this indicats that the linear regression model doesn't fit so we will use the logistic model"
   ]
  },
  {
   "cell_type": "markdown",
   "id": "385e665d",
   "metadata": {},
   "source": [
    "## Logistic Regression"
   ]
  },
  {
   "cell_type": "code",
   "execution_count": 31,
   "id": "8a7db7a7",
   "metadata": {},
   "outputs": [],
   "source": [
    "from sklearn.linear_model import LogisticRegression\n",
    "from sklearn.model_selection import train_test_split"
   ]
  },
  {
   "cell_type": "code",
   "execution_count": 32,
   "id": "9a92f262",
   "metadata": {},
   "outputs": [
    {
     "name": "stdout",
     "output_type": "stream",
     "text": [
      "Intercepts: [-2.79527803]\n",
      "Coefficients: [[-0.7039678   1.24684441 -0.54287659]]\n",
      "Prediction: [-1]\n"
     ]
    }
   ],
   "source": [
    "# Load the data\n",
    "data = pd.read_csv(\"C:\\\\Users\\\\Kimo Store\\\\Downloads\\\\Telegram Desktop\\\\cleandata7.csv\")\n",
    "\n",
    "# Convert the 'material clearness' column to binary variables\n",
    "data[['material_clearness_Maybe', 'material_clearness_Agree', 'material_clearness_Disagree']] = pd.get_dummies(data['material clearness'])\n",
    "\n",
    "# Convert the 'CGPA' column to numerical values\n",
    "cgpa_categories = ['Less than 1', '1:00:00-1:59:59', '2:00:00-2:59:59', '3:00:00-3:59:59', '4:00:00-4:59:59', '5:00:00-5:59:59']\n",
    "data['CGPA_cat'] = pd.Categorical(data['CGPA'], categories=cgpa_categories).codes\n",
    "\n",
    "# Define the variables\n",
    "x = data[['material_clearness_Maybe', 'material_clearness_Agree', 'material_clearness_Disagree']]\n",
    "y = data['CGPA_cat']\n",
    "\n",
    "# Split data into training and testing sets\n",
    "x_train, x_test, y_train, y_test = train_test_split(x, y, test_size=0.2, random_state=42)\n",
    "\n",
    "# Fit a logistic regression model\n",
    "model = LogisticRegression(random_state=42)\n",
    "model.fit(x_train, y_train)\n",
    "\n",
    "# Print the intercept and coefficients for each category of the dependent variable\n",
    "print('Intercepts:', model.intercept_)\n",
    "print('Coefficients:', model.coef_)\n",
    "\n",
    "# Make a prediction for a new observation\n",
    "new_observation = pd.DataFrame({'material_clearness_Maybe': [0], 'material_clearness_Agree': [1], 'material_clearness_Disagree': [0]})\n",
    "new_obs_pred = model.predict(new_observation)\n",
    "#print('New observation:', new_observation.to_dict())\n",
    "print('Prediction:', new_obs_pred)"
   ]
  },
  {
   "cell_type": "markdown",
   "id": "77107b87",
   "metadata": {},
   "source": [
    "# Validation"
   ]
  },
  {
   "cell_type": "code",
   "execution_count": 33,
   "id": "4576efa9",
   "metadata": {},
   "outputs": [
    {
     "name": "stdout",
     "output_type": "stream",
     "text": [
      "Accuracy: 1.0\n",
      "Precision: 0.0\n",
      "Recall: 0.0\n"
     ]
    },
    {
     "name": "stderr",
     "output_type": "stream",
     "text": [
      "C:\\Program Files\\anaconda\\lib\\site-packages\\sklearn\\metrics\\_classification.py:1245: UndefinedMetricWarning: Precision is ill-defined and being set to 0.0 due to no predicted samples. Use `zero_division` parameter to control this behavior.\n",
      "  _warn_prf(average, modifier, msg_start, len(result))\n",
      "C:\\Program Files\\anaconda\\lib\\site-packages\\sklearn\\metrics\\_classification.py:1245: UndefinedMetricWarning: Recall is ill-defined and being set to 0.0 due to no true samples. Use `zero_division` parameter to control this behavior.\n",
      "  _warn_prf(average, modifier, msg_start, len(result))\n"
     ]
    }
   ],
   "source": [
    "from sklearn.metrics import accuracy_score, precision_score, recall_score\n",
    "\n",
    "y_pred = model.predict(x_test)\n",
    "\n",
    "accuracy = accuracy_score(y_test, y_pred)\n",
    "precision = precision_score(y_test, y_pred)\n",
    "recall = recall_score(y_test, y_pred)\n",
    "\n",
    "\n",
    "print(\"Accuracy:\", accuracy)\n",
    "print(\"Precision:\", precision)\n",
    "print(\"Recall:\", recall)"
   ]
  },
  {
   "cell_type": "code",
   "execution_count": 34,
   "id": "29c24aaf",
   "metadata": {},
   "outputs": [
    {
     "name": "stdout",
     "output_type": "stream",
     "text": [
      "Cross-Validation Scores: [0.95 0.95 0.95 0.95 1.  ]\n",
      "Mean CV Score: 0.96\n"
     ]
    },
    {
     "name": "stderr",
     "output_type": "stream",
     "text": [
      "C:\\Program Files\\anaconda\\lib\\site-packages\\sklearn\\model_selection\\_split.py:666: UserWarning: The least populated class in y has only 4 members, which is less than n_splits=5.\n",
      "  warnings.warn((\"The least populated class in y has only %d\"\n"
     ]
    }
   ],
   "source": [
    "from sklearn.model_selection import cross_val_score\n",
    "\n",
    "scores = cross_val_score(model, x, y, cv=5)\n",
    "print(\"Cross-Validation Scores:\", scores)\n",
    "print(\"Mean CV Score:\", scores.mean())"
   ]
  },
  {
   "cell_type": "markdown",
   "id": "4e4b7631",
   "metadata": {},
   "source": [
    "# Data Reliability"
   ]
  },
  {
   "cell_type": "code",
   "execution_count": 35,
   "id": "636ba25b",
   "metadata": {},
   "outputs": [
    {
     "data": {
      "text/html": [
       "<div>\n",
       "<style scoped>\n",
       "    .dataframe tbody tr th:only-of-type {\n",
       "        vertical-align: middle;\n",
       "    }\n",
       "\n",
       "    .dataframe tbody tr th {\n",
       "        vertical-align: top;\n",
       "    }\n",
       "\n",
       "    .dataframe thead th {\n",
       "        text-align: right;\n",
       "    }\n",
       "</style>\n",
       "<table border=\"1\" class=\"dataframe\">\n",
       "  <thead>\n",
       "    <tr style=\"text-align: right;\">\n",
       "      <th></th>\n",
       "      <th>level</th>\n",
       "      <th>gender</th>\n",
       "      <th>CGPA</th>\n",
       "      <th>theoretical part</th>\n",
       "      <th>material clearness</th>\n",
       "      <th>enough  practice examples</th>\n",
       "      <th>material sufficiency</th>\n",
       "      <th>ideas to improve materials</th>\n",
       "      <th>timeframe suitability</th>\n",
       "      <th>CC opnions</th>\n",
       "      <th>...</th>\n",
       "      <th>rooms/Labs are clean</th>\n",
       "      <th>rooms/Labs are big</th>\n",
       "      <th>rooms/Labs have clear board</th>\n",
       "      <th>halls suitable for gaps</th>\n",
       "      <th>suggestions for better exp</th>\n",
       "      <th>overall satisfaction</th>\n",
       "      <th>Semester time</th>\n",
       "      <th>Interactive learning  effectiveness</th>\n",
       "      <th>Teamwork</th>\n",
       "      <th>suggestions for better exps</th>\n",
       "    </tr>\n",
       "  </thead>\n",
       "  <tbody>\n",
       "    <tr>\n",
       "      <th>0</th>\n",
       "      <td>2</td>\n",
       "      <td>Female</td>\n",
       "      <td>303:04:00</td>\n",
       "      <td>well enough to pass0</td>\n",
       "      <td>Maybe</td>\n",
       "      <td>Agree</td>\n",
       "      <td>Maybe</td>\n",
       "      <td>It should be more simple and comprehensive</td>\n",
       "      <td>Maybe</td>\n",
       "      <td>It is too long for the semester0</td>\n",
       "      <td>...</td>\n",
       "      <td>No</td>\n",
       "      <td>No</td>\n",
       "      <td>Yes</td>\n",
       "      <td>No</td>\n",
       "      <td>Taking part in communities and competitions</td>\n",
       "      <td>60-90%</td>\n",
       "      <td>Maybe</td>\n",
       "      <td>Agree</td>\n",
       "      <td>Agree</td>\n",
       "      <td>Taking part in communities and competitions</td>\n",
       "    </tr>\n",
       "    <tr>\n",
       "      <th>1</th>\n",
       "      <td>3</td>\n",
       "      <td>Female</td>\n",
       "      <td>303:04:00</td>\n",
       "      <td>Very well0</td>\n",
       "      <td>Maybe</td>\n",
       "      <td>Maybe</td>\n",
       "      <td>Disagree</td>\n",
       "      <td>0</td>\n",
       "      <td>Agree0</td>\n",
       "      <td>I agree with the previous question0</td>\n",
       "      <td>...</td>\n",
       "      <td>No</td>\n",
       "      <td>No</td>\n",
       "      <td>Yes</td>\n",
       "      <td>No</td>\n",
       "      <td>To make sure that the doctors and the teaching...</td>\n",
       "      <td>30-60%</td>\n",
       "      <td>Maybe</td>\n",
       "      <td>Agree</td>\n",
       "      <td>Maybe</td>\n",
       "      <td>0</td>\n",
       "    </tr>\n",
       "    <tr>\n",
       "      <th>2</th>\n",
       "      <td>2</td>\n",
       "      <td>Female</td>\n",
       "      <td>303:04:00</td>\n",
       "      <td>well enough to pass0</td>\n",
       "      <td>Agree</td>\n",
       "      <td>Maybe</td>\n",
       "      <td>Maybe</td>\n",
       "      <td>Need to cover more topics or clearer informati...</td>\n",
       "      <td>Agree0</td>\n",
       "      <td>I agree with the previous question0</td>\n",
       "      <td>...</td>\n",
       "      <td>No</td>\n",
       "      <td>No</td>\n",
       "      <td>Yes</td>\n",
       "      <td>No</td>\n",
       "      <td>The rooms need to be cleaned regularly</td>\n",
       "      <td>60-90%</td>\n",
       "      <td>Maybe</td>\n",
       "      <td>Disagree</td>\n",
       "      <td>Agree</td>\n",
       "      <td>The rooms need to be cleaned regularly</td>\n",
       "    </tr>\n",
       "    <tr>\n",
       "      <th>3</th>\n",
       "      <td>3</td>\n",
       "      <td>Male</td>\n",
       "      <td>303:04:00</td>\n",
       "      <td>Very well0</td>\n",
       "      <td>Agree</td>\n",
       "      <td>Agree</td>\n",
       "      <td>Disagree</td>\n",
       "      <td>0</td>\n",
       "      <td>Maybe</td>\n",
       "      <td>I agree with the previous question0</td>\n",
       "      <td>...</td>\n",
       "      <td>No</td>\n",
       "      <td>No</td>\n",
       "      <td>Yes</td>\n",
       "      <td>No</td>\n",
       "      <td>Preparing  the main building of the faculty as...</td>\n",
       "      <td>90-100%</td>\n",
       "      <td>Maybe</td>\n",
       "      <td>Agree</td>\n",
       "      <td>Maybe</td>\n",
       "      <td>Preparing  the main building of the faculty as...</td>\n",
       "    </tr>\n",
       "    <tr>\n",
       "      <th>4</th>\n",
       "      <td>3</td>\n",
       "      <td>Female</td>\n",
       "      <td>303:04:00</td>\n",
       "      <td>Very well0</td>\n",
       "      <td>Maybe</td>\n",
       "      <td>Maybe</td>\n",
       "      <td>Maybe</td>\n",
       "      <td>To be more detailed than it is to depend on it</td>\n",
       "      <td>Maybe</td>\n",
       "      <td>I agree with the previous question0</td>\n",
       "      <td>...</td>\n",
       "      <td>Yes</td>\n",
       "      <td>No</td>\n",
       "      <td>Yes</td>\n",
       "      <td>No</td>\n",
       "      <td>Have more sets and please open the Library all...</td>\n",
       "      <td>60-90%</td>\n",
       "      <td>Maybe</td>\n",
       "      <td>Agree</td>\n",
       "      <td>Agree</td>\n",
       "      <td>Have more sets and please open the Library all...</td>\n",
       "    </tr>\n",
       "  </tbody>\n",
       "</table>\n",
       "<p>5 rows × 36 columns</p>\n",
       "</div>"
      ],
      "text/plain": [
       "   level  gender       CGPA     theoretical part  material clearness  \\\n",
       "0      2  Female  303:04:00  well enough to pass0              Maybe   \n",
       "1      3  Female  303:04:00            Very well0              Maybe   \n",
       "2      2  Female  303:04:00  well enough to pass0              Agree   \n",
       "3      3    Male  303:04:00            Very well0              Agree   \n",
       "4      3  Female  303:04:00            Very well0              Maybe   \n",
       "\n",
       "  enough  practice examples material sufficiency   \\\n",
       "0                     Agree                 Maybe   \n",
       "1                     Maybe              Disagree   \n",
       "2                     Maybe                 Maybe   \n",
       "3                     Agree              Disagree   \n",
       "4                     Maybe                 Maybe   \n",
       "\n",
       "                          ideas to improve materials timeframe suitability  \\\n",
       "0        It should be more simple and comprehensive                  Maybe   \n",
       "1                                                  0                Agree0   \n",
       "2  Need to cover more topics or clearer informati...                Agree0   \n",
       "3                                                  0                 Maybe   \n",
       "4     To be more detailed than it is to depend on it                 Maybe   \n",
       "\n",
       "                            CC opnions  ... rooms/Labs are clean   \\\n",
       "0     It is too long for the semester0  ...                    No   \n",
       "1  I agree with the previous question0  ...                    No   \n",
       "2  I agree with the previous question0  ...                    No   \n",
       "3  I agree with the previous question0  ...                    No   \n",
       "4  I agree with the previous question0  ...                   Yes   \n",
       "\n",
       "  rooms/Labs are big   rooms/Labs have clear board halls suitable for gaps   \\\n",
       "0                   No                         Yes                       No   \n",
       "1                   No                         Yes                       No   \n",
       "2                   No                         Yes                       No   \n",
       "3                   No                         Yes                       No   \n",
       "4                   No                         Yes                       No   \n",
       "\n",
       "                          suggestions for better exp overall satisfaction    \\\n",
       "0       Taking part in communities and competitions                  60-90%   \n",
       "1  To make sure that the doctors and the teaching...                 30-60%   \n",
       "2            The rooms need to be cleaned regularly                  60-90%   \n",
       "3  Preparing  the main building of the faculty as...                90-100%   \n",
       "4  Have more sets and please open the Library all...                 60-90%   \n",
       "\n",
       "  Semester time   Interactive learning  effectiveness Teamwork   \\\n",
       "0           Maybe                               Agree     Agree   \n",
       "1           Maybe                               Agree     Maybe   \n",
       "2           Maybe                            Disagree     Agree   \n",
       "3           Maybe                               Agree     Maybe   \n",
       "4           Maybe                               Agree     Agree   \n",
       "\n",
       "                         suggestions for better exps  \n",
       "0       Taking part in communities and competitions   \n",
       "1                                                  0  \n",
       "2            The rooms need to be cleaned regularly   \n",
       "3  Preparing  the main building of the faculty as...  \n",
       "4  Have more sets and please open the Library all...  \n",
       "\n",
       "[5 rows x 36 columns]"
      ]
     },
     "execution_count": 35,
     "metadata": {},
     "output_type": "execute_result"
    }
   ],
   "source": [
    "data= pd.read_csv(\"C:\\\\Users\\\\Kimo Store\\\\Downloads\\\\Telegram Desktop\\\\cleandata7.csv\")\n",
    "data.head()"
   ]
  },
  {
   "cell_type": "markdown",
   "id": "fe19939a",
   "metadata": {},
   "source": [
    "## Converting data to category"
   ]
  },
  {
   "cell_type": "code",
   "execution_count": 36,
   "id": "d166c64a",
   "metadata": {},
   "outputs": [
    {
     "data": {
      "text/plain": [
       "level                                              int64\n",
       "gender                                          category\n",
       "CGPA                                            category\n",
       "theoretical part                                category\n",
       "material clearness                              category\n",
       "enough  practice examples                       category\n",
       "material sufficiency                            category\n",
       "ideas to improve materials                        object\n",
       "timeframe suitability                           category\n",
       "CC opnions                                        object\n",
       "assignments relation to courses                 category\n",
       "assignments measurment of knowledge             category\n",
       "project discussions efficiency                  category\n",
       "Attending lectures impact                       category\n",
       "Labs/Classes impact                             category\n",
       "suggestions for BL                                object\n",
       "doctors cooporations                            category\n",
       "teaching assistants cooporations                category\n",
       "interactive teaching techniques                 category\n",
       "interactive techniques impact                   category\n",
       "courses related to jobs                         category\n",
       "courses qualifies students                      category\n",
       "list of IC                                        object\n",
       "soft skills                                     category\n",
       "soft skills suggistions                           object\n",
       "learning environment can affect  performance    category\n",
       "rooms/Labs are clean                            category\n",
       "rooms/Labs are big                              category\n",
       "rooms/Labs have clear board                     category\n",
       "halls suitable for gaps                         category\n",
       "suggestions for better exp                        object\n",
       "overall satisfaction                            category\n",
       "Semester time                                   category\n",
       "Interactive learning  effectiveness             category\n",
       "Teamwork                                        category\n",
       "suggestions for better exps                       object\n",
       "dtype: object"
      ]
     },
     "execution_count": 36,
     "metadata": {},
     "output_type": "execute_result"
    }
   ],
   "source": [
    "data[\"gender\"]=data[\"gender\"].astype('category')\n",
    "data[\"CGPA\"]=data[\"CGPA\"].astype('category')\n",
    "data[\"theoretical part \"]=data[\"theoretical part \"].astype('category')\n",
    "data[\"material clearness\"]=data[\"material clearness\"].astype('category')\n",
    "data[\"enough  practice examples\"]=data[\"enough  practice examples\"].astype('category')\n",
    "data[\"material sufficiency \"]=data[\"material sufficiency \"].astype('category')\n",
    "data[\"timeframe suitability\"]=data[\"timeframe suitability\"].astype('category')\n",
    "data[\"assignments relation to courses\"]=data[\"assignments relation to courses\"].astype('category')\n",
    "data[\"assignments measurment of knowledge\"]=data[\"assignments measurment of knowledge\"].astype('category')\n",
    "data[\"project discussions efficiency\"]=data[\"project discussions efficiency\"].astype('category')\n",
    "data[\"Attending lectures impact\"]=data[\"Attending lectures impact\"].astype('category')\n",
    "data[\"Labs/Classes impact\"]=data[\"Labs/Classes impact\"].astype('category')\n",
    "data[\"doctors cooporations \"]=data[\"doctors cooporations \"].astype('category')\n",
    "data[\"teaching assistants cooporations\"]=data[\"teaching assistants cooporations\"].astype('category')\n",
    "data[\"interactive teaching techniques\"]=data[\"interactive teaching techniques\"].astype('category')\n",
    "data[\"interactive techniques impact\"]=data[\"interactive techniques impact\"].astype('category')\n",
    "data[\"courses related to jobs\"]=data[\"courses related to jobs\"].astype('category')\n",
    "data[\"courses qualifies students \"]=data[\"courses qualifies students \"].astype('category')\n",
    "data[\"soft skills \"]=data[\"soft skills \"].astype('category')\n",
    "data[\"learning environment can affect  performance\"]=data[\"learning environment can affect  performance\"].astype('category')\n",
    "data[\"rooms/Labs are clean \"]=data[\"rooms/Labs are clean \"].astype('category')\n",
    "data[\"rooms/Labs are big  \"]=data[\"rooms/Labs are big  \"].astype('category')\n",
    "data[\"rooms/Labs have clear board\"]=data[\"rooms/Labs have clear board\"].astype('category')\n",
    "data[\"halls suitable for gaps \"]=data[\"halls suitable for gaps \"].astype('category')\n",
    "data[\"overall satisfaction  \"]=data[\"overall satisfaction  \"].astype('category')\n",
    "data[\"Semester time  \"]=data[\"Semester time  \"].astype('category')\n",
    "data[\"Interactive learning  effectiveness\"]=data[\"Interactive learning  effectiveness\"].astype('category')\n",
    "data[\"Teamwork \"]=data[\"Teamwork \"].astype('category')\n",
    "data.dtypes"
   ]
  },
  {
   "cell_type": "markdown",
   "id": "7542821a",
   "metadata": {},
   "source": [
    "## Encoding data"
   ]
  },
  {
   "cell_type": "code",
   "execution_count": 38,
   "id": "298dc06e",
   "metadata": {},
   "outputs": [],
   "source": [
    "data_encode=pd.DataFrame()\n",
    "data_encode[\"gender\"]=data[\"gender\"].cat.codes\n",
    "data_encode[\"CGPA\"]=data[\"CGPA\"].cat.codes\n",
    "data_encode[\"theoretical part \"]=data[\"theoretical part \"].cat.codes\n",
    "data_encode[\"material clearness\"]=data[\"material clearness\"].cat.codes\n",
    "data_encode[\"enough  practice examples\"]=data[\"enough  practice examples\"].cat.codes\n",
    "data_encode[\"material sufficiency \"]=data[\"material sufficiency \"].cat.codes\n",
    "data_encode[\"timeframe suitability\"]=data[\"timeframe suitability\"].cat.codes\n",
    "data_encode[\"assignments relation to courses\"]=data[\"assignments relation to courses\"].cat.codes\n",
    "data_encode[\"assignments measurment of knowledge\"]=data[\"assignments measurment of knowledge\"].cat.codes\n",
    "data_encode[\"project discussions efficiency\"]=data[\"project discussions efficiency\"].cat.codes\n",
    "data_encode[\"Attending lectures impact\"]=data[\"Attending lectures impact\"].cat.codes\n",
    "data_encode[\"Labs/Classes impact\"]=data[\"Labs/Classes impact\"].cat.codes\n",
    "data_encode[\"doctors cooporations \"]=data[\"doctors cooporations \"].cat.codes\n",
    "data_encode[\"teaching assistants cooporations\"]=data[\"teaching assistants cooporations\"].cat.codes\n",
    "data_encode[\"interactive teaching techniques\"]=data[\"interactive teaching techniques\"].cat.codes\n",
    "data_encode[\"interactive techniques impact\"]=data[\"interactive techniques impact\"].cat.codes\n",
    "data_encode[\"courses related to jobs\"]=data[\"courses related to jobs\"].cat.codes\n",
    "data_encode[\"courses qualifies students \"]=data[\"courses qualifies students \"].cat.codes\n",
    "data_encode[\"soft skills \"]=data[\"soft skills \"].cat.codes\n",
    "data_encode[\"learning environment can affect  performance\"]=data[\"learning environment can affect  performance\"].cat.codes\n",
    "data_encode[\"rooms/Labs are clean \"]=data[\"rooms/Labs are clean \"].cat.codes\n",
    "data_encode[\"rooms/Labs are big  \"]=data[\"rooms/Labs are big  \"].cat.codes\n",
    "data_encode[\"rooms/Labs have clear board\"]=data[\"rooms/Labs have clear board\"].cat.codes\n",
    "data_encode[\"halls suitable for gaps \"]=data[\"halls suitable for gaps \"].cat.codes\n",
    "data_encode[\"overall satisfaction  \"]=data[\"overall satisfaction  \"].cat.codes\n",
    "data_encode[\"Semester time  \"]=data[\"Semester time  \"].cat.codes\n",
    "data_encode[\"Interactive learning  effectiveness\"]=data[\"Interactive learning  effectiveness\"].cat.codes\n",
    "data_encode[\"Teamwork \"]=data[\"Teamwork \"].cat.codes"
   ]
  },
  {
   "cell_type": "markdown",
   "id": "7074f4e8",
   "metadata": {},
   "source": [
    "## Calculating Reliability"
   ]
  },
  {
   "cell_type": "code",
   "execution_count": 46,
   "id": "3f98ec96",
   "metadata": {},
   "outputs": [
    {
     "name": "stdout",
     "output_type": "stream",
     "text": [
      "Requirement already satisfied: krippendorff in c:\\program files\\anaconda\\lib\\site-packages (0.6.0)\n",
      "Requirement already satisfied: numpy<2.0,>=1.21 in c:\\program files\\anaconda\\lib\\site-packages (from krippendorff) (1.24.3)\n"
     ]
    },
    {
     "data": {
      "text/plain": [
       "0.340487197998403"
      ]
     },
     "execution_count": 46,
     "metadata": {},
     "output_type": "execute_result"
    }
   ],
   "source": [
    "!pip install krippendorff\n",
    "from krippendorff import alpha\n",
    "\n",
    "alpha_value = alpha(data_encode)\n",
    "alpha_value"
   ]
  },
  {
   "cell_type": "markdown",
   "id": "107957c8",
   "metadata": {},
   "source": [
    "### We see that it's a very low reliability so we will drop some columns and try to improve it"
   ]
  },
  {
   "cell_type": "code",
   "execution_count": 80,
   "id": "5002b280",
   "metadata": {},
   "outputs": [
    {
     "data": {
      "text/html": [
       "<div>\n",
       "<style scoped>\n",
       "    .dataframe tbody tr th:only-of-type {\n",
       "        vertical-align: middle;\n",
       "    }\n",
       "\n",
       "    .dataframe tbody tr th {\n",
       "        vertical-align: top;\n",
       "    }\n",
       "\n",
       "    .dataframe thead th {\n",
       "        text-align: right;\n",
       "    }\n",
       "</style>\n",
       "<table border=\"1\" class=\"dataframe\">\n",
       "  <thead>\n",
       "    <tr style=\"text-align: right;\">\n",
       "      <th></th>\n",
       "      <th>gender</th>\n",
       "      <th>CGPA</th>\n",
       "      <th>theoretical part</th>\n",
       "      <th>courses related to jobs</th>\n",
       "      <th>rooms/Labs are big</th>\n",
       "      <th>halls suitable for gaps</th>\n",
       "    </tr>\n",
       "  </thead>\n",
       "  <tbody>\n",
       "    <tr>\n",
       "      <th>0</th>\n",
       "      <td>0</td>\n",
       "      <td>3</td>\n",
       "      <td>3</td>\n",
       "      <td>1</td>\n",
       "      <td>0</td>\n",
       "      <td>0</td>\n",
       "    </tr>\n",
       "    <tr>\n",
       "      <th>1</th>\n",
       "      <td>0</td>\n",
       "      <td>3</td>\n",
       "      <td>2</td>\n",
       "      <td>0</td>\n",
       "      <td>0</td>\n",
       "      <td>0</td>\n",
       "    </tr>\n",
       "    <tr>\n",
       "      <th>2</th>\n",
       "      <td>0</td>\n",
       "      <td>3</td>\n",
       "      <td>3</td>\n",
       "      <td>1</td>\n",
       "      <td>0</td>\n",
       "      <td>0</td>\n",
       "    </tr>\n",
       "    <tr>\n",
       "      <th>3</th>\n",
       "      <td>1</td>\n",
       "      <td>3</td>\n",
       "      <td>2</td>\n",
       "      <td>1</td>\n",
       "      <td>0</td>\n",
       "      <td>0</td>\n",
       "    </tr>\n",
       "    <tr>\n",
       "      <th>4</th>\n",
       "      <td>0</td>\n",
       "      <td>3</td>\n",
       "      <td>2</td>\n",
       "      <td>0</td>\n",
       "      <td>0</td>\n",
       "      <td>0</td>\n",
       "    </tr>\n",
       "    <tr>\n",
       "      <th>...</th>\n",
       "      <td>...</td>\n",
       "      <td>...</td>\n",
       "      <td>...</td>\n",
       "      <td>...</td>\n",
       "      <td>...</td>\n",
       "      <td>...</td>\n",
       "    </tr>\n",
       "    <tr>\n",
       "      <th>94</th>\n",
       "      <td>1</td>\n",
       "      <td>3</td>\n",
       "      <td>3</td>\n",
       "      <td>0</td>\n",
       "      <td>0</td>\n",
       "      <td>1</td>\n",
       "    </tr>\n",
       "    <tr>\n",
       "      <th>95</th>\n",
       "      <td>0</td>\n",
       "      <td>2</td>\n",
       "      <td>3</td>\n",
       "      <td>0</td>\n",
       "      <td>0</td>\n",
       "      <td>0</td>\n",
       "    </tr>\n",
       "    <tr>\n",
       "      <th>96</th>\n",
       "      <td>1</td>\n",
       "      <td>1</td>\n",
       "      <td>1</td>\n",
       "      <td>0</td>\n",
       "      <td>1</td>\n",
       "      <td>0</td>\n",
       "    </tr>\n",
       "    <tr>\n",
       "      <th>97</th>\n",
       "      <td>1</td>\n",
       "      <td>2</td>\n",
       "      <td>2</td>\n",
       "      <td>1</td>\n",
       "      <td>1</td>\n",
       "      <td>1</td>\n",
       "    </tr>\n",
       "    <tr>\n",
       "      <th>98</th>\n",
       "      <td>0</td>\n",
       "      <td>0</td>\n",
       "      <td>3</td>\n",
       "      <td>0</td>\n",
       "      <td>1</td>\n",
       "      <td>0</td>\n",
       "    </tr>\n",
       "  </tbody>\n",
       "</table>\n",
       "<p>99 rows × 6 columns</p>\n",
       "</div>"
      ],
      "text/plain": [
       "    gender  CGPA  theoretical part   courses related to jobs  \\\n",
       "0        0     3                  3                        1   \n",
       "1        0     3                  2                        0   \n",
       "2        0     3                  3                        1   \n",
       "3        1     3                  2                        1   \n",
       "4        0     3                  2                        0   \n",
       "..     ...   ...                ...                      ...   \n",
       "94       1     3                  3                        0   \n",
       "95       0     2                  3                        0   \n",
       "96       1     1                  1                        0   \n",
       "97       1     2                  2                        1   \n",
       "98       0     0                  3                        0   \n",
       "\n",
       "    rooms/Labs are big    halls suitable for gaps   \n",
       "0                      0                         0  \n",
       "1                      0                         0  \n",
       "2                      0                         0  \n",
       "3                      0                         0  \n",
       "4                      0                         0  \n",
       "..                   ...                       ...  \n",
       "94                     0                         1  \n",
       "95                     0                         0  \n",
       "96                     1                         0  \n",
       "97                     1                         1  \n",
       "98                     1                         0  \n",
       "\n",
       "[99 rows x 6 columns]"
      ]
     },
     "execution_count": 80,
     "metadata": {},
     "output_type": "execute_result"
    }
   ],
   "source": [
    "data_encode1=data_encode.drop(['material clearness','enough  practice examples','material sufficiency ','timeframe suitability','assignments relation to courses','assignments measurment of knowledge','project discussions efficiency','Attending lectures impact','Labs/Classes impact','doctors cooporations ','teaching assistants cooporations','interactive teaching techniques','interactive techniques impact','courses qualifies students ','soft skills ','learning environment can affect  performance','rooms/Labs are clean ','rooms/Labs have clear board','overall satisfaction  ','Semester time  ','Interactive learning  effectiveness','Teamwork '],axis=1)\n",
    "data_encode1"
   ]
  },
  {
   "cell_type": "code",
   "execution_count": 81,
   "id": "e2cbeb23",
   "metadata": {},
   "outputs": [
    {
     "data": {
      "text/plain": [
       "0.7268448260842052"
      ]
     },
     "execution_count": 81,
     "metadata": {},
     "output_type": "execute_result"
    }
   ],
   "source": [
    "alpha_value = alpha(data_encode1)\n",
    "alpha_value"
   ]
  },
  {
   "cell_type": "markdown",
   "id": "b1c88225",
   "metadata": {},
   "source": [
    "### We see that this one is much better"
   ]
  },
  {
   "cell_type": "markdown",
   "id": "3092ec68",
   "metadata": {},
   "source": [
    "# Data Visualization"
   ]
  },
  {
   "cell_type": "code",
   "execution_count": 40,
   "id": "c5b4409e",
   "metadata": {},
   "outputs": [
    {
     "data": {
      "text/plain": [
       "<function matplotlib.pyplot.show(close=None, block=None)>"
      ]
     },
     "execution_count": 40,
     "metadata": {},
     "output_type": "execute_result"
    },
    {
     "data": {
      "image/png": "[encoded data removed]",
      "text/plain": [
       "<Figure size 720x504 with 1 Axes>"
      ]
     },
     "metadata": {
      "needs_background": "light"
     },
     "output_type": "display_data"
    }
   ],
   "source": [
    "import matplotlib.pyplot as plt\n",
    "\n",
    "plt.figure(figsize=(10,7))\n",
    "x = data[\"CGPA\"]\n",
    "plt.hist(x, bins= 20, color=\"red\")\n",
    "plt.title(\"students cgpa\")\n",
    "plt.xlabel(\"cgpa\")\n",
    "plt.ylabel(\"frequency\")\n",
    "plt.show"
   ]
  },
  {
   "cell_type": "code",
   "execution_count": 41,
   "id": "304fe0b5",
   "metadata": {},
   "outputs": [
    {
     "data": {
      "text/plain": [
       "<function matplotlib.pyplot.show(close=None, block=None)>"
      ]
     },
     "execution_count": 41,
     "metadata": {},
     "output_type": "execute_result"
    },
    {
     "data": {
      "image/png": "[encoded data removed]",
      "text/plain": [
       "<Figure size 432x288 with 1 Axes>"
      ]
     },
     "metadata": {},
     "output_type": "display_data"
    }
   ],
   "source": [
    "plt.pie([50,33,16], labels=['maybe','disagree','agree'], colors=['#0000FF','#E6E6FA','#7B68EE'])\n",
    "plt.title('material sufficiency')\n",
    "plt.show"
   ]
  },
  {
   "cell_type": "code",
   "execution_count": 42,
   "id": "3a862ba6",
   "metadata": {},
   "outputs": [
    {
     "data": {
      "text/plain": [
       "<function matplotlib.pyplot.show(close=None, block=None)>"
      ]
     },
     "execution_count": 42,
     "metadata": {},
     "output_type": "execute_result"
    },
    {
     "data": {
      "image/png": "[encoded data removed]",
      "text/plain": [
       "<Figure size 432x288 with 1 Axes>"
      ]
     },
     "metadata": {},
     "output_type": "display_data"
    }
   ],
   "source": [
    "plt.pie([59,40], labels=['no','yes'], colors=['#E6E6FA','#7B68EE'])\n",
    "plt.title('are courses related to the jobs')\n",
    "plt.show"
   ]
  },
  {
   "cell_type": "markdown",
   "id": "702cf561",
   "metadata": {},
   "source": [
    "### in the last two plots above we can that the majority of students tend to think that the courses materials are not very great also see that it does not meet jobs needs so, one of the things that can be taken in consideration is updating the courses content "
   ]
  },
  {
   "cell_type": "code",
   "execution_count": 43,
   "id": "aea853d5",
   "metadata": {},
   "outputs": [
    {
     "data": {
      "text/plain": [
       "<function matplotlib.pyplot.show(close=None, block=None)>"
      ]
     },
     "execution_count": 43,
     "metadata": {},
     "output_type": "execute_result"
    },
    {
     "data": {
      "image/png": "[encoded data removed]",
      "text/plain": [
       "<Figure size 720x504 with 1 Axes>"
      ]
     },
     "metadata": {
      "needs_background": "light"
     },
     "output_type": "display_data"
    }
   ],
   "source": [
    "plt.figure(figsize=(10,7))\n",
    "x = data[\"overall satisfaction  \"]\n",
    "plt.hist(x, bins= 20, color=\"green\")\n",
    "plt.title(\"overall satisfaction\")\n",
    "plt.xlabel(\"percentage of satisfaction\")\n",
    "plt.ylabel(\"frequency\")\n",
    "plt.show"
   ]
  },
  {
   "cell_type": "code",
   "execution_count": 44,
   "id": "d66d1cf0",
   "metadata": {},
   "outputs": [
    {
     "data": {
      "text/plain": [
       "<function matplotlib.pyplot.show(close=None, block=None)>"
      ]
     },
     "execution_count": 44,
     "metadata": {},
     "output_type": "execute_result"
    },
    {
     "data": {
      "image/png": "[encoded data removed]",
      "text/plain": [
       "<Figure size 432x288 with 1 Axes>"
      ]
     },
     "metadata": {},
     "output_type": "display_data"
    }
   ],
   "source": [
    "plt.pie([87,12], labels=['yes','no'], colors=['#0000FF','#E6E6FA'])\n",
    "plt.title('does the learning environment affect performance')\n",
    "plt.show"
   ]
  },
  {
   "cell_type": "code",
   "execution_count": 45,
   "id": "f733d572",
   "metadata": {},
   "outputs": [
    {
     "data": {
      "text/plain": [
       "<function matplotlib.pyplot.show(close=None, block=None)>"
      ]
     },
     "execution_count": 45,
     "metadata": {},
     "output_type": "execute_result"
    },
    {
     "data": {
      "image/png": "[encoded data removed]",
      "text/plain": [
       "<Figure size 432x288 with 1 Axes>"
      ]
     },
     "metadata": {},
     "output_type": "display_data"
    }
   ],
   "source": [
    "plt.pie([31,68], labels=['yes','no'], colors=['#0000FF','#E6E6FA'])\n",
    "plt.title('are the rooms/labs big')\n",
    "plt.show"
   ]
  },
  {
   "cell_type": "code",
   "execution_count": 46,
   "id": "3babb748",
   "metadata": {},
   "outputs": [
    {
     "data": {
      "text/plain": [
       "<function matplotlib.pyplot.show(close=None, block=None)>"
      ]
     },
     "execution_count": 46,
     "metadata": {},
     "output_type": "execute_result"
    },
    {
     "data": {
      "image/png": "[encoded data removed]",
      "text/plain": [
       "<Figure size 432x288 with 1 Axes>"
      ]
     },
     "metadata": {},
     "output_type": "display_data"
    }
   ],
   "source": [
    "plt.pie([52,47], labels=['yes','no'], colors=['#0000FF','#E6E6FA'])\n",
    "plt.title('are the rooms/labs clean')\n",
    "plt.show"
   ]
  },
  {
   "cell_type": "markdown",
   "id": "14dc4ef4",
   "metadata": {},
   "source": [
    "### in the last 3 plots above we see that nearly all the students agree that the learning environment does affect the performance and they do not see that the rooms or the labs are big enough and half of them see that it is not even clean so, working on the rooms and the labs maybe able to help improve students performance"
   ]
  },
  {
   "cell_type": "code",
   "execution_count": 47,
   "id": "a1b503c1",
   "metadata": {},
   "outputs": [
    {
     "data": {
      "text/plain": [
       "<function matplotlib.pyplot.show(close=None, block=None)>"
      ]
     },
     "execution_count": 47,
     "metadata": {},
     "output_type": "execute_result"
    },
    {
     "data": {
      "image/png": "[encoded data removed]",
      "text/plain": [
       "<Figure size 720x504 with 1 Axes>"
      ]
     },
     "metadata": {
      "needs_background": "light"
     },
     "output_type": "display_data"
    }
   ],
   "source": [
    "plt.figure(figsize=(10,7))\n",
    "x = data[\"interactive teaching techniques\"]\n",
    "plt.hist(x, bins= 20, color=\"black\")\n",
    "plt.title(\"doctors/assistants use interactive techniques\")\n",
    "plt.xlabel(\"\")\n",
    "plt.ylabel(\"frequency\")\n",
    "plt.show"
   ]
  },
  {
   "cell_type": "code",
   "execution_count": 48,
   "id": "c8344d17",
   "metadata": {},
   "outputs": [
    {
     "data": {
      "text/plain": [
       "<function matplotlib.pyplot.show(close=None, block=None)>"
      ]
     },
     "execution_count": 48,
     "metadata": {},
     "output_type": "execute_result"
    },
    {
     "data": {
      "image/png": "[encoded data removed]",
      "text/plain": [
       "<Figure size 720x504 with 1 Axes>"
      ]
     },
     "metadata": {
      "needs_background": "light"
     },
     "output_type": "display_data"
    }
   ],
   "source": [
    "plt.figure(figsize=(10,7))\n",
    "x = data[\"interactive techniques impact\"]\n",
    "plt.hist(x, bins= 20, color=\"black\")\n",
    "plt.title(\"doe interactive techniques improve performance\")\n",
    "plt.xlabel(\"\")\n",
    "plt.ylabel(\"frequency\")\n",
    "plt.show"
   ]
  },
  {
   "cell_type": "markdown",
   "id": "e046331b",
   "metadata": {},
   "source": [
    "### in the above two plots we see that nearly all the students can agree that using interactive techniques can improve performance and see that not all of the doctors or assistants use these techniques "
   ]
  },
  {
   "cell_type": "markdown",
   "id": "4b368039",
   "metadata": {},
   "source": [
    "# Interpretation"
   ]
  },
  {
   "cell_type": "markdown",
   "id": "30d17ced",
   "metadata": {},
   "source": [
    "### from the above we concluted that :\n",
    "### 1) gender might affect CGPA , so we need to search deeper and find the reason\n",
    "### 2) Interactive teaching techniques are quite important so we need to focus on changing the traditional techniques\n",
    "### 3) Halls are clean but they need to be bigger and we need to increase suitable places for gaps\n",
    "### 4) Cooperative professor often means cooperative staff, so we must focus on choosing the right professor and staff\n",
    "### 5) Semester time is good but practical examples are not enough so we might consider increasing practical examples\n",
    "### 6) Increasing practical examples might increase material clearness as it's not very good"
   ]
  },
  {
   "cell_type": "code",
   "execution_count": null,
   "id": "26485b1f",
   "metadata": {},
   "outputs": [],
   "source": []
  }
 ],
 "metadata": {
  "kernelspec": {
   "display_name": "Python 3",
   "language": "python",
   "name": "python3"
  },
  "language_info": {
   "codemirror_mode": {
    "name": "ipython",
    "version": 3
   },
   "file_extension": ".py",
   "mimetype": "text/x-python",
   "name": "python",
   "nbconvert_exporter": "python",
   "pygments_lexer": "ipython3",
   "version": "3.8.8"
  }
 },
 "nbformat": 4,
 "nbformat_minor": 5
}
